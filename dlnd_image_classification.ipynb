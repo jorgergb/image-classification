{
 "cells": [
  {
   "cell_type": "markdown",
   "metadata": {
    "collapsed": true
   },
   "source": [
    "# Image Classification\n",
    "In this project, you'll classify images from the [CIFAR-10 dataset](https://www.cs.toronto.edu/~kriz/cifar.html).  The dataset consists of airplanes, dogs, cats, and other objects. You'll preprocess the images, then train a convolutional neural network on all the samples. The images need to be normalized and the labels need to be one-hot encoded.  You'll get to apply what you learned and build a convolutional, max pooling, dropout, and fully connected layers.  At the end, you'll get to see your neural network's predictions on the sample images.\n",
    "## Get the Data\n",
    "Run the following cell to download the [CIFAR-10 dataset for python](https://www.cs.toronto.edu/~kriz/cifar-10-python.tar.gz)."
   ]
  },
  {
   "cell_type": "code",
   "execution_count": 1,
   "metadata": {},
   "outputs": [
    {
     "name": "stdout",
     "output_type": "stream",
     "text": [
      "All files found!\n"
     ]
    }
   ],
   "source": [
    "\"\"\"\n",
    "DON'T MODIFY ANYTHING IN THIS CELL THAT IS BELOW THIS LINE\n",
    "\"\"\"\n",
    "from urllib.request import urlretrieve\n",
    "from os.path import isfile, isdir\n",
    "from tqdm import tqdm\n",
    "import problem_unittests as tests\n",
    "import tarfile\n",
    "\n",
    "cifar10_dataset_folder_path = 'cifar-10-batches-py'\n",
    "\n",
    "# Use Floyd's cifar-10 dataset if present\n",
    "floyd_cifar10_location = '/input/cifar-10/python.tar.gz'\n",
    "if isfile(floyd_cifar10_location):\n",
    "    tar_gz_path = floyd_cifar10_location\n",
    "else:\n",
    "    tar_gz_path = 'cifar-10-python.tar.gz'\n",
    "\n",
    "class DLProgress(tqdm):\n",
    "    last_block = 0\n",
    "\n",
    "    def hook(self, block_num=1, block_size=1, total_size=None):\n",
    "        self.total = total_size\n",
    "        self.update((block_num - self.last_block) * block_size)\n",
    "        self.last_block = block_num\n",
    "\n",
    "if not isfile(tar_gz_path):\n",
    "    with DLProgress(unit='B', unit_scale=True, miniters=1, desc='CIFAR-10 Dataset') as pbar:\n",
    "        urlretrieve(\n",
    "            'https://www.cs.toronto.edu/~kriz/cifar-10-python.tar.gz',\n",
    "            tar_gz_path,\n",
    "            pbar.hook)\n",
    "\n",
    "if not isdir(cifar10_dataset_folder_path):\n",
    "    with tarfile.open(tar_gz_path) as tar:\n",
    "        tar.extractall()\n",
    "        tar.close()\n",
    "\n",
    "\n",
    "tests.test_folder_path(cifar10_dataset_folder_path)"
   ]
  },
  {
   "cell_type": "markdown",
   "metadata": {},
   "source": [
    "## Explore the Data\n",
    "The dataset is broken into batches to prevent your machine from running out of memory.  The CIFAR-10 dataset consists of 5 batches, named `data_batch_1`, `data_batch_2`, etc.. Each batch contains the labels and images that are one of the following:\n",
    "* airplane\n",
    "* automobile\n",
    "* bird\n",
    "* cat\n",
    "* deer\n",
    "* dog\n",
    "* frog\n",
    "* horse\n",
    "* ship\n",
    "* truck\n",
    "\n",
    "Understanding a dataset is part of making predictions on the data.  Play around with the code cell below by changing the `batch_id` and `sample_id`. The `batch_id` is the id for a batch (1-5). The `sample_id` is the id for a image and label pair in the batch.\n",
    "\n",
    "Ask yourself \"What are all possible labels?\", \"What is the range of values for the image data?\", \"Are the labels in order or random?\".  Answers to questions like these will help you preprocess the data and end up with better predictions."
   ]
  },
  {
   "cell_type": "code",
   "execution_count": 2,
   "metadata": {},
   "outputs": [
    {
     "name": "stdout",
     "output_type": "stream",
     "text": [
      "\n",
      "Stats of batch 5:\n",
      "Samples: 10000\n",
      "Label Counts: {0: 1014, 1: 1014, 2: 952, 3: 1016, 4: 997, 5: 1025, 6: 980, 7: 977, 8: 1003, 9: 1022}\n",
      "First 20 Labels: [1, 8, 5, 1, 5, 7, 4, 3, 8, 2, 7, 2, 0, 1, 5, 9, 6, 2, 0, 8]\n",
      "\n",
      "Example of Image 9999:\n",
      "Image - Min Value: 4 Max Value: 255\n",
      "Image - Shape: (32, 32, 3)\n",
      "Label - Label Id: 1 Name: automobile\n"
     ]
    },
    {
     "data": {
      "image/png": "[encoded data removed]",
      "text/plain": [
       "<matplotlib.figure.Figure at 0x4b4f5c0>"
      ]
     },
     "metadata": {
      "image/png": {
       "height": 250,
       "width": 253
      }
     },
     "output_type": "display_data"
    }
   ],
   "source": [
    "%matplotlib inline\n",
    "%config InlineBackend.figure_format = 'retina'\n",
    "\n",
    "import helper\n",
    "import numpy as np\n",
    "\n",
    "# Explore the dataset\n",
    "batch_id = 5\n",
    "sample_id = 9999\n",
    "helper.display_stats(cifar10_dataset_folder_path, batch_id, sample_id)"
   ]
  },
  {
   "cell_type": "markdown",
   "metadata": {},
   "source": [
    "## Implement Preprocess Functions\n",
    "### Normalize\n",
    "In the cell below, implement the `normalize` function to take in image data, `x`, and return it as a normalized Numpy array. The values should be in the range of 0 to 1, inclusive.  The return object should be the same shape as `x`."
   ]
  },
  {
   "cell_type": "code",
   "execution_count": 3,
   "metadata": {},
   "outputs": [
    {
     "name": "stdout",
     "output_type": "stream",
     "text": [
      "Original RGB\n",
      "R 62 G 82 B 188\n",
      "Normalized array:\n",
      "R 0.243137254902 G 0.321568627451 B 0.737254901961\n",
      "Tests Passed\n"
     ]
    }
   ],
   "source": [
    "def normalize(x):\n",
    "    \"\"\"\n",
    "    Normalize a list of sample image data in the range of 0 to 1\n",
    "    : x: List of image data.  The image shape is (32, 32, 3)\n",
    "    : return: Numpy array of normalize data\n",
    "    \"\"\"\n",
    "    ##return a normalized array with the same shape as x\n",
    "    \n",
    "    normalized_array = x/255\n",
    "                \n",
    "    ##for testing purposes\n",
    "    print(\"Original RGB\")\n",
    "    print(\"R\",x[1,1,1,0],\"G\",x[1,1,1,1],\"B\",x[1,1,1,2])\n",
    "    print(\"Normalized array:\")\n",
    "    print(\"R\",normalized_array[1,1,1,0],\"G\",normalized_array[1,1,1,1],\"B\",normalized_array[1,1,1,2])\n",
    "    \n",
    "    return x/255\n",
    "\n",
    "\n",
    "\"\"\"\n",
    "DON'T MODIFY ANYTHING IN THIS CELL THAT IS BELOW THIS LINE\n",
    "\"\"\"\n",
    "tests.test_normalize(normalize)"
   ]
  },
  {
   "cell_type": "markdown",
   "metadata": {},
   "source": [
    "### One-hot encode\n",
    "Just like the previous code cell, you'll be implementing a function for preprocessing.  This time, you'll implement the `one_hot_encode` function. The input, `x`, are a list of labels.  Implement the function to return the list of labels as One-Hot encoded Numpy array.  The possible values for labels are 0 to 9. The one-hot encoding function should return the same encoding for each value between each call to `one_hot_encode`.  Make sure to save the map of encodings outside the function.\n",
    "\n",
    "Hint: Don't reinvent the wheel."
   ]
  },
  {
   "cell_type": "code",
   "execution_count": 4,
   "metadata": {},
   "outputs": [
    {
     "name": "stdout",
     "output_type": "stream",
     "text": [
      "Tests Passed\n"
     ]
    }
   ],
   "source": [
    "import pandas as pd\n",
    "import numpy as np\n",
    "from sklearn.preprocessing import OneHotEncoder\n",
    "\n",
    "f = pd.get_dummies([0,1,2,3,4,5,6,7,8,9])\n",
    "\n",
    "\n",
    "def one_hot_encode(x):\n",
    "    \"\"\"\n",
    "    One hot encode a list of sample labels. Return a one-hot encoded vector for each label.\n",
    "    : x: List of sample Labels\n",
    "    : return: Numpy array of one-hot encoded labels\n",
    "    \"\"\"\n",
    "    oh = np.zeros((len(x),10))\n",
    "    for i in range(len(x)):\n",
    "        oh[i] = f[x[i]] \n",
    "    \n",
    "    return oh\n",
    "\n",
    "\n",
    "\"\"\"\n",
    "DON'T MODIFY ANYTHING IN THIS CELL THAT IS BELOW THIS LINE\n",
    "\"\"\"\n",
    "tests.test_one_hot_encode(one_hot_encode)"
   ]
  },
  {
   "cell_type": "markdown",
   "metadata": {},
   "source": [
    "### Randomize Data\n",
    "As you saw from exploring the data above, the order of the samples are randomized.  It doesn't hurt to randomize it again, but you don't need to for this dataset."
   ]
  },
  {
   "cell_type": "markdown",
   "metadata": {},
   "source": [
    "## Preprocess all the data and save it\n",
    "Running the code cell below will preprocess all the CIFAR-10 data and save it to file. The code below also uses 10% of the training data for validation."
   ]
  },
  {
   "cell_type": "code",
   "execution_count": 5,
   "metadata": {},
   "outputs": [
    {
     "name": "stdout",
     "output_type": "stream",
     "text": [
      "Original RGB\n",
      "R 145 G 153 B 154\n",
      "Normalized array:\n",
      "R 0.56862745098 G 0.6 B 0.603921568627\n",
      "Original RGB\n",
      "R 20 G 15 B 12\n",
      "Normalized array:\n",
      "R 0.078431372549 G 0.0588235294118 B 0.0470588235294\n",
      "Original RGB\n",
      "R 97 G 89 B 59\n",
      "Normalized array:\n",
      "R 0.380392156863 G 0.349019607843 B 0.23137254902\n",
      "Original RGB\n",
      "R 27 G 41 B 6\n",
      "Normalized array:\n",
      "R 0.105882352941 G 0.160784313725 B 0.0235294117647\n",
      "Original RGB\n",
      "R 125 G 143 B 163\n",
      "Normalized array:\n",
      "R 0.490196078431 G 0.560784313725 B 0.639215686275\n",
      "Original RGB\n",
      "R 76 G 84 B 66\n",
      "Normalized array:\n",
      "R 0.298039215686 G 0.329411764706 B 0.258823529412\n",
      "Original RGB\n",
      "R 235 G 235 B 235\n",
      "Normalized array:\n",
      "R 0.921568627451 G 0.921568627451 B 0.921568627451\n"
     ]
    }
   ],
   "source": [
    "\"\"\"\n",
    "DON'T MODIFY ANYTHING IN THIS CELL\n",
    "\"\"\"\n",
    "# Preprocess Training, Validation, and Testing Data\n",
    "helper.preprocess_and_save_data(cifar10_dataset_folder_path, normalize, one_hot_encode)"
   ]
  },
  {
   "cell_type": "markdown",
   "metadata": {},
   "source": [
    "# Check Point\n",
    "This is your first checkpoint.  If you ever decide to come back to this notebook or have to restart the notebook, you can start from here.  The preprocessed data has been saved to disk."
   ]
  },
  {
   "cell_type": "code",
   "execution_count": 6,
   "metadata": {
    "collapsed": true
   },
   "outputs": [],
   "source": [
    "\"\"\"\n",
    "DON'T MODIFY ANYTHING IN THIS CELL\n",
    "\"\"\"\n",
    "import pickle\n",
    "import problem_unittests as tests\n",
    "import helper\n",
    "\n",
    "# Load the Preprocessed Validation data\n",
    "valid_features, valid_labels = pickle.load(open('preprocess_validation.p', mode='rb'))"
   ]
  },
  {
   "cell_type": "markdown",
   "metadata": {},
   "source": [
    "## Build the network\n",
    "For the neural network, you'll build each layer into a function.  Most of the code you've seen has been outside of functions. To test your code more thoroughly, we require that you put each layer in a function.  This allows us to give you better feedback and test for simple mistakes using our unittests before you submit your project.\n",
    "\n",
    ">**Note:** If you're finding it hard to dedicate enough time for this course each week, we've provided a small shortcut to this part of the project. In the next couple of problems, you'll have the option to use classes from the [TensorFlow Layers](https://www.tensorflow.org/api_docs/python/tf/layers) or [TensorFlow Layers (contrib)](https://www.tensorflow.org/api_guides/python/contrib.layers) packages to build each layer, except the layers you build in the \"Convolutional and Max Pooling Layer\" section.  TF Layers is similar to Keras's and TFLearn's abstraction to layers, so it's easy to pickup.\n",
    "\n",
    ">However, if you would like to get the most out of this course, try to solve all the problems _without_ using anything from the TF Layers packages. You **can** still use classes from other packages that happen to have the same name as ones you find in TF Layers! For example, instead of using the TF Layers version of the `conv2d` class, [tf.layers.conv2d](https://www.tensorflow.org/api_docs/python/tf/layers/conv2d), you would want to use the TF Neural Network version of `conv2d`, [tf.nn.conv2d](https://www.tensorflow.org/api_docs/python/tf/nn/conv2d). \n",
    "\n",
    "Let's begin!\n",
    "\n",
    "### Input\n",
    "The neural network needs to read the image data, one-hot encoded labels, and dropout keep probability. Implement the following functions\n",
    "* Implement `neural_net_image_input`\n",
    " * Return a [TF Placeholder](https://www.tensorflow.org/api_docs/python/tf/placeholder)\n",
    " * Set the shape using `image_shape` with batch size set to `None`.\n",
    " * Name the TensorFlow placeholder \"x\" using the TensorFlow `name` parameter in the [TF Placeholder](https://www.tensorflow.org/api_docs/python/tf/placeholder).\n",
    "* Implement `neural_net_label_input`\n",
    " * Return a [TF Placeholder](https://www.tensorflow.org/api_docs/python/tf/placeholder)\n",
    " * Set the shape using `n_classes` with batch size set to `None`.\n",
    " * Name the TensorFlow placeholder \"y\" using the TensorFlow `name` parameter in the [TF Placeholder](https://www.tensorflow.org/api_docs/python/tf/placeholder).\n",
    "* Implement `neural_net_keep_prob_input`\n",
    " * Return a [TF Placeholder](https://www.tensorflow.org/api_docs/python/tf/placeholder) for dropout keep probability.\n",
    " * Name the TensorFlow placeholder \"keep_prob\" using the TensorFlow `name` parameter in the [TF Placeholder](https://www.tensorflow.org/api_docs/python/tf/placeholder).\n",
    "\n",
    "These names will be used at the end of the project to load your saved model.\n",
    "\n",
    "Note: `None` for shapes in TensorFlow allow for a dynamic size."
   ]
  },
  {
   "cell_type": "code",
   "execution_count": 7,
   "metadata": {},
   "outputs": [
    {
     "name": "stdout",
     "output_type": "stream",
     "text": [
      "Image Input Tests Passed.\n",
      "Label Input Tests Passed.\n",
      "Keep Prob Tests Passed.\n"
     ]
    }
   ],
   "source": [
    "import tensorflow as tf\n",
    "\n",
    "def neural_net_image_input(image_shape):\n",
    "    \"\"\"\n",
    "    Return a Tensor for a batch of image input\n",
    "    : image_shape: Shape of the images\n",
    "    : return: Tensor for image input.\n",
    "    \"\"\"\n",
    "    height = image_shape[0]\n",
    "    width  = image_shape[1]\n",
    "    chan   = image_shape[2]\n",
    "    image_input = tf.placeholder(tf.float32, shape=(None,height, width, chan), name='x')\n",
    "    \n",
    "    return image_input\n",
    "\n",
    "\n",
    "def neural_net_label_input(n_classes):\n",
    "    \"\"\"\n",
    "    Return a Tensor for a batch of label input\n",
    "    : n_classes: Number of classes\n",
    "    : return: Tensor for label input.\n",
    "    \"\"\"\n",
    "    \n",
    "    label_input = tf.placeholder(tf.float32, shape=(None, n_classes), name='y')\n",
    "    \n",
    "    return label_input\n",
    "\n",
    "\n",
    "def neural_net_keep_prob_input():\n",
    "    \"\"\"\n",
    "    Return a Tensor for keep probability\n",
    "    : return: Tensor for keep probability.\n",
    "    Implement neural_net_keep_prob_input\n",
    "    \"\"\"\n",
    "    # TODO: Implement Function\n",
    "    keep_prob = tf.placeholder(tf.float32, name='keep_prob')\n",
    "    \n",
    "    return keep_prob\n",
    "\n",
    "\n",
    "\"\"\"\n",
    "DON'T MODIFY ANYTHING IN THIS CELL THAT IS BELOW THIS LINE\n",
    "\"\"\"\n",
    "tf.reset_default_graph()\n",
    "tests.test_nn_image_inputs(neural_net_image_input)\n",
    "tests.test_nn_label_inputs(neural_net_label_input)\n",
    "tests.test_nn_keep_prob_inputs(neural_net_keep_prob_input)"
   ]
  },
  {
   "cell_type": "markdown",
   "metadata": {},
   "source": [
    "### Convolution and Max Pooling Layer\n",
    "Convolution layers have a lot of success with images. For this code cell, you should implement the function `conv2d_maxpool` to apply convolution then max pooling:\n",
    "* Create the weight and bias using `conv_ksize`, `conv_num_outputs` and the shape of `x_tensor`.\n",
    "* Apply a convolution to `x_tensor` using weight and `conv_strides`.\n",
    " * We recommend you use same padding, but you're welcome to use any padding.\n",
    "* Add bias\n",
    "* Add a nonlinear activation to the convolution.\n",
    "* Apply Max Pooling using `pool_ksize` and `pool_strides`.\n",
    " * We recommend you use same padding, but you're welcome to use any padding.\n",
    "\n",
    "**Note:** You **can't** use [TensorFlow Layers](https://www.tensorflow.org/api_docs/python/tf/layers) or [TensorFlow Layers (contrib)](https://www.tensorflow.org/api_guides/python/contrib.layers) for **this** layer, but you can still use TensorFlow's [Neural Network](https://www.tensorflow.org/api_docs/python/tf/nn) package. You may still use the shortcut option for all the **other** layers."
   ]
  },
  {
   "cell_type": "code",
   "execution_count": 8,
   "metadata": {},
   "outputs": [
    {
     "name": "stdout",
     "output_type": "stream",
     "text": [
      "Tests Passed\n"
     ]
    }
   ],
   "source": [
    "def conv2d_maxpool(x_tensor, conv_num_outputs, conv_ksize, conv_strides, pool_ksize, pool_strides):\n",
    "    # x_tensor = tensor(None,32,32,5)\n",
    "    # conv_num_outputs = 10\n",
    "    # conv_ksize = (2,2)\n",
    "    # conv_strides = (4,4)\n",
    "    # pool_ksize = (2,2)\n",
    "    # pool_strides = (2,2)\n",
    "    \n",
    "    #---------------------\n",
    "    # without .as_list() we get the following error:\n",
    "    # Expected binary or unicode string, got 2\n",
    "    #---------------------\n",
    "    tensor_shape = x_tensor.get_shape().as_list()\n",
    "    tshape_d = tensor_shape[3]\n",
    "    \n",
    "    #filter\n",
    "    f_size_height = conv_ksize[0]\n",
    "    f_size_width  = conv_ksize[1]\n",
    "    \n",
    "    \n",
    "    weight = tf.Variable(tf.truncated_normal([f_size_height,f_size_width, tshape_d, conv_num_outputs], \\\n",
    "                                             mean=0.0, stddev=0.05, dtype=tf.float32), name='weight')\n",
    "    \n",
    "    bias   = tf.Variable(tf.zeros(conv_num_outputs))\n",
    "    \n",
    "    \n",
    "    \"\"\"\n",
    "    Apply convolution then max pooling to x_tensor\n",
    "    :param x_tensor: TensorFlow Tensor\n",
    "    :param conv_num_outputs: Number of outputs for the convolutional layer\n",
    "    :param conv_ksize: kernal size 2-D Tuple for the convolutional layer\n",
    "    :param conv_strides: Stride 2-D Tuple for convolution\n",
    "    :param pool_ksize: kernal size 2-D Tuple for pool\n",
    "    :param pool_strides: Stride 2-D Tuple for pool\n",
    "    : return: A tensor that represents convolution and max pooling of x_tensor\n",
    "    \"\"\"\n",
    "    \n",
    "    \n",
    "    #convolution layer\n",
    "    conv_layer = tf.nn.conv2d(x_tensor,\\\n",
    "                              weight,\\\n",
    "                              strides=[1,conv_strides[0],conv_strides[1],1],\\\n",
    "                              padding = 'SAME')\n",
    "    #bias\n",
    "    conv_layer = tf.nn.bias_add(conv_layer, bias)\n",
    "    \n",
    "    #activation\n",
    "    conv_layer = tf.nn.relu(conv_layer)\n",
    "    \n",
    "    #max pooling\n",
    "    \n",
    "    conv_layer = tf.nn.max_pool(conv_layer,\\\n",
    "                                ksize=[1, pool_ksize[0], pool_ksize[1],1],\\\n",
    "                                strides=[1, pool_strides[0], pool_strides[1], 1],\\\n",
    "                                padding='SAME')\n",
    "    \n",
    "    return conv_layer \n",
    "\n",
    "\n",
    "\"\"\"\n",
    "DON'T MODIFY ANYTHING IN THIS CELL THAT IS BELOW THIS LINE\n",
    "\"\"\"\n",
    "tests.test_con_pool(conv2d_maxpool)"
   ]
  },
  {
   "cell_type": "markdown",
   "metadata": {},
   "source": [
    "### Flatten Layer\n",
    "Implement the `flatten` function to change the dimension of `x_tensor` from a 4-D tensor to a 2-D tensor.  The output should be the shape (*Batch Size*, *Flattened Image Size*). Shortcut option: you can use classes from the [TensorFlow Layers](https://www.tensorflow.org/api_docs/python/tf/layers) or [TensorFlow Layers (contrib)](https://www.tensorflow.org/api_guides/python/contrib.layers) packages for this layer. For more of a challenge, only use other TensorFlow packages."
   ]
  },
  {
   "cell_type": "code",
   "execution_count": 9,
   "metadata": {},
   "outputs": [
    {
     "name": "stdout",
     "output_type": "stream",
     "text": [
      "Tests Passed\n"
     ]
    }
   ],
   "source": [
    "def flatten(x_tensor):\n",
    "    \"\"\"\n",
    "    Flatten x_tensor to (Batch Size, Flattened Image Size)\n",
    "    : x_tensor: A tensor of size (Batch Size, ...), where ... are the image dimensions.\n",
    "    : return: A tensor of size (Batch Size, Flattened Image Size).\n",
    "    \"\"\"\n",
    "    # TODO: Implement Function\n",
    "    #using layers contrib\n",
    "    flt = tf.contrib.layers.flatten(x_tensor,[-1,2])\n",
    "    \n",
    "    \n",
    "    return flt \n",
    "\n",
    "\n",
    "\"\"\"\n",
    "DON'T MODIFY ANYTHING IN THIS CELL THAT IS BELOW THIS LINE\n",
    "\"\"\"\n",
    "tests.test_flatten(flatten)"
   ]
  },
  {
   "cell_type": "markdown",
   "metadata": {},
   "source": [
    "### Fully-Connected Layer\n",
    "Implement the `fully_conn` function to apply a fully connected layer to `x_tensor` with the shape (*Batch Size*, *num_outputs*). Shortcut option: you can use classes from the [TensorFlow Layers](https://www.tensorflow.org/api_docs/python/tf/layers) or [TensorFlow Layers (contrib)](https://www.tensorflow.org/api_guides/python/contrib.layers) packages for this layer. For more of a challenge, only use other TensorFlow packages."
   ]
  },
  {
   "cell_type": "code",
   "execution_count": 10,
   "metadata": {},
   "outputs": [
    {
     "name": "stdout",
     "output_type": "stream",
     "text": [
      "Tests Passed\n"
     ]
    }
   ],
   "source": [
    "def fully_conn(x_tensor, num_outputs):\n",
    "    \"\"\"\n",
    "    Apply a fully connected layer to x_tensor using weight and bias\n",
    "    : x_tensor: A 2-D tensor where the first dimension is batch size.\n",
    "    : num_outputs: The number of output that the new tensor should be.\n",
    "    : return: A 2-D tensor where the second dimension is num_outputs.\n",
    "    \"\"\"\n",
    "    shape  = x_tensor.get_shape().as_list()\n",
    "    weight = tf.Variable(tf.truncated_normal([shape[1], num_outputs],mean=0.0, stddev=0.05, dtype=tf.float32))\n",
    "    bias   = tf.Variable(tf.zeros(num_outputs))\n",
    "    \n",
    "    #fully connected\n",
    "    fc   =   tf.add(tf.matmul(x_tensor, weight), bias)\n",
    "    #fc   =   tf.nn.relu(fc)\n",
    "    \n",
    "    return fc\n",
    "\n",
    "\n",
    "\"\"\"\n",
    "DON'T MODIFY ANYTHING IN THIS CELL THAT IS BELOW THIS LINE\n",
    "\"\"\"\n",
    "tests.test_fully_conn(fully_conn)"
   ]
  },
  {
   "cell_type": "markdown",
   "metadata": {},
   "source": [
    "### Output Layer\n",
    "Implement the `output` function to apply a fully connected layer to `x_tensor` with the shape (*Batch Size*, *num_outputs*). Shortcut option: you can use classes from the [TensorFlow Layers](https://www.tensorflow.org/api_docs/python/tf/layers) or [TensorFlow Layers (contrib)](https://www.tensorflow.org/api_guides/python/contrib.layers) packages for this layer. For more of a challenge, only use other TensorFlow packages.\n",
    "\n",
    "**Note:** Activation, softmax, or cross entropy should **not** be applied to this."
   ]
  },
  {
   "cell_type": "code",
   "execution_count": 11,
   "metadata": {},
   "outputs": [
    {
     "name": "stdout",
     "output_type": "stream",
     "text": [
      "Tests Passed\n"
     ]
    }
   ],
   "source": [
    "def output(x_tensor, num_outputs):\n",
    "    \"\"\"\n",
    "    Apply a output layer to x_tensor using weight and bias\n",
    "    : x_tensor: A 2-D tensor where the first dimension is batch size.\n",
    "    : num_outputs: The number of output that the new tensor should be.\n",
    "    : return: A 2-D tensor where the second dimension is num_outputs.\n",
    "    \"\"\"\n",
    "    # TODO: Implement Function\n",
    "    shape  = x_tensor.get_shape().as_list()\n",
    "    weight = tf.Variable(tf.truncated_normal([shape[1], num_outputs], mean=0.0, stddev=0.05, dtype=tf.float32))\n",
    "    bias   = tf.Variable(tf.zeros(num_outputs))\n",
    "                         \n",
    "                         \n",
    "    return tf.add(tf.matmul(x_tensor, weight), bias)\n",
    "\n",
    "\n",
    "\"\"\"\n",
    "DON'T MODIFY ANYTHING IN THIS CELL THAT IS BELOW THIS LINE\n",
    "\"\"\"\n",
    "tests.test_output(output)"
   ]
  },
  {
   "cell_type": "markdown",
   "metadata": {},
   "source": [
    "### Create Convolutional Model\n",
    "Implement the function `conv_net` to create a convolutional neural network model. The function takes in a batch of images, `x`, and outputs logits.  Use the layers you created above to create this model:\n",
    "\n",
    "* Apply 1, 2, or 3 Convolution and Max Pool layers\n",
    "* Apply a Flatten Layer\n",
    "* Apply 1, 2, or 3 Fully Connected Layers\n",
    "* Apply an Output Layer\n",
    "* Return the output\n",
    "* Apply [TensorFlow's Dropout](https://www.tensorflow.org/api_docs/python/tf/nn/dropout) to one or more layers in the model using `keep_prob`. "
   ]
  },
  {
   "cell_type": "code",
   "execution_count": 12,
   "metadata": {},
   "outputs": [
    {
     "name": "stdout",
     "output_type": "stream",
     "text": [
      "Neural Network Built!\n"
     ]
    }
   ],
   "source": [
    "def conv_net(x, keep_prob):\n",
    "    \"\"\"\n",
    "    Create a convolutional neural network model\n",
    "    : x: Placeholder tensor that holds image data.\n",
    "    : keep_prob: Placeholder tensor that hold dropout keep probability.\n",
    "    : return: Tensor that represents logits\n",
    "    \"\"\"\n",
    "    # TODO: Apply 1, 2, or 3 Convolution and Max Pool layers\n",
    "    #    Play around with different number of outputs, kernel size and stride\n",
    "    # Function Definition from Above:\n",
    "    #    conv2d_maxpool(x_tensor, conv_num_outputs, conv_ksize, conv_strides, pool_ksize, pool_strides)\n",
    "    conv1 = conv2d_maxpool(x, 64, [3,3],[2,2],[2,2],[2,2])\n",
    "    conv2 = conv2d_maxpool(conv1, 128, [3,3],[2,2],[2,2],[2,2])\n",
    "    #conv3 = conv2d_maxpool(conv2, 256, [3,3],[2,2],[2,2],[2,2])\n",
    "\n",
    "    # TODO: Apply a Flatten Layer\n",
    "    # Function Definition from Above:\n",
    "    #   flatten(x_tensor)\n",
    "    fl = flatten(conv2)\n",
    "    fl = tf.nn.dropout(fl, keep_prob)\n",
    "    \n",
    "\n",
    "    # TODO: Apply 1, 2, or 3 Fully Connected Layers\n",
    "    #    Play around with different number of outputs\n",
    "    # Function Definition from Above:\n",
    "    #   fully_conn(x_tensor, num_outputs)\n",
    "    fc1   = fully_conn(fl, 256)\n",
    "    fc1   = tf.nn.dropout(fc1, keep_prob)\n",
    "    fc1   = tf.nn.relu(fc1)\n",
    "    \n",
    "    \n",
    "    #second fc\n",
    "    #fc2   = fully_conn(fc1, 128)\n",
    "    #fc2   = tf.nn.dropout(fc2, keep_prob)\n",
    "    #fc2   = tf.nn.relu(fc2)\n",
    "    \n",
    "    \n",
    "    \n",
    "    # TODO: Apply an Output Layer\n",
    "    #    Set this to the number of classes\n",
    "    # Function Definition from Above:\n",
    "    #   output(x_tensor, num_outputs)\n",
    "    out = output(fc1, 10)\n",
    "    \n",
    "    \n",
    "    # TODO: return output\n",
    "    return out\n",
    "\n",
    "\n",
    "\"\"\"\n",
    "DON'T MODIFY ANYTHING IN THIS CELL THAT IS BELOW THIS LINE\n",
    "\"\"\"\n",
    "\n",
    "##############################\n",
    "## Build the Neural Network ##\n",
    "##############################\n",
    "\n",
    "# Remove previous weights, bias, inputs, etc..\n",
    "tf.reset_default_graph()\n",
    "\n",
    "# Inputs\n",
    "x = neural_net_image_input((32, 32, 3))\n",
    "y = neural_net_label_input(10)\n",
    "keep_prob = neural_net_keep_prob_input()\n",
    "\n",
    "# Model\n",
    "logits = conv_net(x, keep_prob)\n",
    "\n",
    "# Name logits Tensor, so that is can be loaded from disk after training\n",
    "logits = tf.identity(logits, name='logits')\n",
    "\n",
    "# Loss and Optimizer\n",
    "cost = tf.reduce_mean(tf.nn.softmax_cross_entropy_with_logits(logits=logits, labels=y))\n",
    "optimizer = tf.train.AdamOptimizer().minimize(cost)\n",
    "\n",
    "# Accuracy\n",
    "correct_pred = tf.equal(tf.argmax(logits, 1), tf.argmax(y, 1))\n",
    "accuracy = tf.reduce_mean(tf.cast(correct_pred, tf.float32), name='accuracy')\n",
    "\n",
    "tests.test_conv_net(conv_net)"
   ]
  },
  {
   "cell_type": "markdown",
   "metadata": {},
   "source": [
    "## Train the Neural Network\n",
    "### Single Optimization\n",
    "Implement the function `train_neural_network` to do a single optimization.  The optimization should use `optimizer` to optimize in `session` with a `feed_dict` of the following:\n",
    "* `x` for image input\n",
    "* `y` for labels\n",
    "* `keep_prob` for keep probability for dropout\n",
    "\n",
    "This function will be called for each batch, so `tf.global_variables_initializer()` has already been called.\n",
    "\n",
    "Note: Nothing needs to be returned. This function is only optimizing the neural network."
   ]
  },
  {
   "cell_type": "code",
   "execution_count": 13,
   "metadata": {},
   "outputs": [
    {
     "name": "stdout",
     "output_type": "stream",
     "text": [
      "Tests Passed\n"
     ]
    }
   ],
   "source": [
    "def train_neural_network(session, optimizer, keep_probability, feature_batch, label_batch):\n",
    "    \"\"\"\n",
    "    Optimize the session on a batch of images and labels\n",
    "    : session: Current TensorFlow session\n",
    "    : optimizer: TensorFlow optimizer function\n",
    "    : keep_probability: keep probability\n",
    "    : feature_batch: Batch of Numpy image data\n",
    "    : label_batch: Batch of Numpy label data\n",
    "    \"\"\"\n",
    "    # TODO: Implement Function\n",
    "    session.run(optimizer,\n",
    "               feed_dict={\n",
    "                   x: feature_batch,\n",
    "                   y: label_batch,\n",
    "                   keep_prob: keep_probability\n",
    "               })\n",
    "\n",
    "\n",
    "\"\"\"\n",
    "DON'T MODIFY ANYTHING IN THIS CELL THAT IS BELOW THIS LINE\n",
    "\"\"\"\n",
    "tests.test_train_nn(train_neural_network)"
   ]
  },
  {
   "cell_type": "markdown",
   "metadata": {},
   "source": [
    "### Show Stats\n",
    "Implement the function `print_stats` to print loss and validation accuracy.  Use the global variables `valid_features` and `valid_labels` to calculate validation accuracy.  Use a keep probability of `1.0` to calculate the loss and validation accuracy."
   ]
  },
  {
   "cell_type": "code",
   "execution_count": 14,
   "metadata": {
    "collapsed": true
   },
   "outputs": [],
   "source": [
    "def print_stats(session, feature_batch, label_batch, cost, accuracy):\n",
    "    \"\"\"\n",
    "    Print information about loss and validation accuracy\n",
    "    : session: Current TensorFlow session\n",
    "    : feature_batch: Batch of Numpy image data\n",
    "    : label_batch: Batch of Numpy label data\n",
    "    : cost: TensorFlow cost function\n",
    "    : accuracy: TensorFlow accuracy function\n",
    "    \"\"\"\n",
    "    # TODO: Implement Function\n",
    "    loss = session.run(cost,\n",
    "                      feed_dict={\n",
    "                          x: feature_batch,\n",
    "                          y: label_batch,\n",
    "                          keep_prob: 1.0\n",
    "                      })\n",
    "    valid_acc = session.run(accuracy,\n",
    "                           feed_dict={\n",
    "                               x: valid_features,\n",
    "                               y: valid_labels,\n",
    "                               keep_prob:1.0\n",
    "                           })\n",
    "    \n",
    "    print('Loss: {:.4f}  Validation Accuracy: {:.2f}%'.format(loss, valid_acc*100))"
   ]
  },
  {
   "cell_type": "markdown",
   "metadata": {},
   "source": [
    "### Hyperparameters\n",
    "Tune the following parameters:\n",
    "* Set `epochs` to the number of iterations until the network stops learning or start overfitting\n",
    "* Set `batch_size` to the highest number that your machine has memory for.  Most people set them to common sizes of memory:\n",
    " * 64\n",
    " * 128\n",
    " * 256\n",
    " * ...\n",
    "* Set `keep_probability` to the probability of keeping a node using dropout"
   ]
  },
  {
   "cell_type": "code",
   "execution_count": 15,
   "metadata": {
    "collapsed": true
   },
   "outputs": [],
   "source": [
    "# TODO: Tune Parameters\n",
    "epochs = 100\n",
    "batch_size = 1024\n",
    "keep_probability = 0.75"
   ]
  },
  {
   "cell_type": "markdown",
   "metadata": {},
   "source": [
    "### Train on a Single CIFAR-10 Batch\n",
    "Instead of training the neural network on all the CIFAR-10 batches of data, let's use a single batch. This should save time while you iterate on the model to get a better accuracy.  Once the final validation accuracy is 50% or greater, run the model on all the data in the next section."
   ]
  },
  {
   "cell_type": "code",
   "execution_count": null,
   "metadata": {
    "scrolled": true
   },
   "outputs": [
    {
     "name": "stdout",
     "output_type": "stream",
     "text": [
      "Checking the Training on a Single Batch...\n",
      "Epoch  1, CIFAR-10 Batch 1:  Loss: 2.2418  Validation Accuracy: 19.52%\n",
      "Epoch  2, CIFAR-10 Batch 1:  Loss: 2.0706  Validation Accuracy: 25.94%\n",
      "Epoch  3, CIFAR-10 Batch 1:  Loss: 2.0086  Validation Accuracy: 28.48%\n",
      "Epoch  4, CIFAR-10 Batch 1:  Loss: 1.9372  Validation Accuracy: 32.38%\n",
      "Epoch  5, CIFAR-10 Batch 1:  Loss: 1.8473  Validation Accuracy: 34.64%\n",
      "Epoch  6, CIFAR-10 Batch 1:  Loss: 1.7852  Validation Accuracy: 36.70%\n",
      "Epoch  7, CIFAR-10 Batch 1:  Loss: 1.7373  Validation Accuracy: 37.84%\n",
      "Epoch  8, CIFAR-10 Batch 1:  Loss: 1.7068  Validation Accuracy: 38.54%\n",
      "Epoch  9, CIFAR-10 Batch 1:  Loss: 1.6773  Validation Accuracy: 39.46%\n",
      "Epoch 10, CIFAR-10 Batch 1:  Loss: 1.6379  Validation Accuracy: 41.44%\n",
      "Epoch 11, CIFAR-10 Batch 1:  Loss: 1.5942  Validation Accuracy: 42.58%\n",
      "Epoch 12, CIFAR-10 Batch 1:  Loss: 1.5679  Validation Accuracy: 42.54%\n",
      "Epoch 13, CIFAR-10 Batch 1:  Loss: 1.5459  Validation Accuracy: 42.72%\n",
      "Epoch 14, CIFAR-10 Batch 1:  Loss: 1.5226  Validation Accuracy: 42.94%\n",
      "Epoch 15, CIFAR-10 Batch 1:  Loss: 1.5042  Validation Accuracy: 43.76%\n",
      "Epoch 16, CIFAR-10 Batch 1:  Loss: 1.4585  Validation Accuracy: 45.16%\n",
      "Epoch 17, CIFAR-10 Batch 1:  Loss: 1.4664  Validation Accuracy: 45.28%\n",
      "Epoch 18, CIFAR-10 Batch 1:  Loss: 1.4235  Validation Accuracy: 46.62%\n",
      "Epoch 19, CIFAR-10 Batch 1:  Loss: 1.3944  Validation Accuracy: 47.12%\n",
      "Epoch 20, CIFAR-10 Batch 1:  Loss: 1.3777  Validation Accuracy: 47.38%\n",
      "Epoch 21, CIFAR-10 Batch 1:  Loss: 1.3761  Validation Accuracy: 46.58%\n",
      "Epoch 22, CIFAR-10 Batch 1:  Loss: 1.3459  Validation Accuracy: 48.16%\n",
      "Epoch 23, CIFAR-10 Batch 1:  Loss: 1.3271  Validation Accuracy: 48.62%\n",
      "Epoch 24, CIFAR-10 Batch 1:  Loss: 1.3019  Validation Accuracy: 49.32%\n",
      "Epoch 25, CIFAR-10 Batch 1:  Loss: 1.3133  Validation Accuracy: 48.90%\n",
      "Epoch 26, CIFAR-10 Batch 1:  Loss: 1.2710  Validation Accuracy: 50.76%\n",
      "Epoch 27, CIFAR-10 Batch 1:  Loss: 1.2492  Validation Accuracy: 50.86%\n",
      "Epoch 28, CIFAR-10 Batch 1:  Loss: 1.2365  Validation Accuracy: 51.32%\n",
      "Epoch 29, CIFAR-10 Batch 1:  Loss: 1.2327  Validation Accuracy: 50.58%\n",
      "Epoch 30, CIFAR-10 Batch 1:  Loss: 1.2068  Validation Accuracy: 52.00%\n",
      "Epoch 31, CIFAR-10 Batch 1:  Loss: 1.1881  Validation Accuracy: 52.48%\n",
      "Epoch 32, CIFAR-10 Batch 1:  Loss: 1.1817  Validation Accuracy: 52.58%\n",
      "Epoch 33, CIFAR-10 Batch 1:  Loss: 1.1661  Validation Accuracy: 53.26%\n",
      "Epoch 34, CIFAR-10 Batch 1:  Loss: 1.1547  Validation Accuracy: 53.26%\n",
      "Epoch 35, CIFAR-10 Batch 1:  Loss: 1.1400  Validation Accuracy: 53.38%\n",
      "Epoch 36, CIFAR-10 Batch 1:  Loss: 1.1252  Validation Accuracy: 53.62%\n",
      "Epoch 37, CIFAR-10 Batch 1:  Loss: 1.1422  Validation Accuracy: 52.90%\n",
      "Epoch 38, CIFAR-10 Batch 1:  Loss: 1.1077  Validation Accuracy: 54.26%\n",
      "Epoch 39, CIFAR-10 Batch 1:  Loss: 1.0835  Validation Accuracy: 55.10%\n",
      "Epoch 40, CIFAR-10 Batch 1:  Loss: 1.0712  Validation Accuracy: 54.84%\n",
      "Epoch 41, CIFAR-10 Batch 1:  Loss: 1.0672  Validation Accuracy: 54.68%\n",
      "Epoch 42, CIFAR-10 Batch 1:  Loss: 1.0557  Validation Accuracy: 54.60%\n",
      "Epoch 43, CIFAR-10 Batch 1:  Loss: 1.0432  Validation Accuracy: 55.14%\n",
      "Epoch 44, CIFAR-10 Batch 1:  Loss: 1.0448  Validation Accuracy: 54.76%\n",
      "Epoch 45, CIFAR-10 Batch 1:  Loss: 1.0158  Validation Accuracy: 55.72%\n",
      "Epoch 46, CIFAR-10 Batch 1:  Loss: 1.0041  Validation Accuracy: 55.84%\n",
      "Epoch 47, CIFAR-10 Batch 1:  Loss: 0.9899  Validation Accuracy: 55.88%\n",
      "Epoch 48, CIFAR-10 Batch 1:  Loss: 0.9797  Validation Accuracy: 56.12%\n",
      "Epoch 49, CIFAR-10 Batch 1:  Loss: 0.9710  Validation Accuracy: 56.52%\n",
      "Epoch 50, CIFAR-10 Batch 1:  Loss: 0.9580  Validation Accuracy: 56.96%\n",
      "Epoch 51, CIFAR-10 Batch 1:  Loss: 0.9499  Validation Accuracy: 56.64%\n",
      "Epoch 52, CIFAR-10 Batch 1:  Loss: 0.9427  Validation Accuracy: 56.54%\n",
      "Epoch 53, CIFAR-10 Batch 1:  Loss: 0.9281  Validation Accuracy: 56.82%\n",
      "Epoch 54, CIFAR-10 Batch 1:  Loss: 0.9153  Validation Accuracy: 56.98%\n",
      "Epoch 55, CIFAR-10 Batch 1:  Loss: 0.9101  Validation Accuracy: 57.24%\n",
      "Epoch 56, CIFAR-10 Batch 1:  Loss: 0.9003  Validation Accuracy: 57.76%\n",
      "Epoch 57, CIFAR-10 Batch 1:  Loss: 0.8844  Validation Accuracy: 57.46%\n",
      "Epoch 58, CIFAR-10 Batch 1:  Loss: 0.8786  Validation Accuracy: 57.32%\n",
      "Epoch 59, CIFAR-10 Batch 1:  Loss: 0.8632  Validation Accuracy: 58.32%\n",
      "Epoch 60, CIFAR-10 Batch 1:  Loss: 0.8504  Validation Accuracy: 58.12%\n",
      "Epoch 61, CIFAR-10 Batch 1:  Loss: 0.8576  Validation Accuracy: 57.58%\n",
      "Epoch 62, CIFAR-10 Batch 1:  Loss: 0.8398  Validation Accuracy: 58.12%\n",
      "Epoch 63, CIFAR-10 Batch 1:  Loss: 0.8293  Validation Accuracy: 58.12%\n",
      "Epoch 64, CIFAR-10 Batch 1:  Loss: 0.8215  Validation Accuracy: 58.52%\n",
      "Epoch 65, CIFAR-10 Batch 1:  Loss: 0.8142  Validation Accuracy: 58.20%\n",
      "Epoch 66, CIFAR-10 Batch 1:  Loss: 0.8042  Validation Accuracy: 58.12%\n",
      "Epoch 67, CIFAR-10 Batch 1:  Loss: 0.7892  Validation Accuracy: 59.16%\n",
      "Epoch 68, CIFAR-10 Batch 1:  Loss: 0.7820  Validation Accuracy: 58.38%\n",
      "Epoch 69, CIFAR-10 Batch 1:  Loss: 0.7704  Validation Accuracy: 59.06%\n",
      "Epoch 70, CIFAR-10 Batch 1:  Loss: 0.7692  Validation Accuracy: 58.48%\n",
      "Epoch 71, CIFAR-10 Batch 1:  Loss: 0.7594  Validation Accuracy: 58.82%\n",
      "Epoch 72, CIFAR-10 Batch 1:  Loss: 0.7483  Validation Accuracy: 59.26%\n",
      "Epoch 73, CIFAR-10 Batch 1:  Loss: 0.7382  Validation Accuracy: 59.02%\n",
      "Epoch 74, CIFAR-10 Batch 1:  Loss: 0.7237  Validation Accuracy: 59.68%\n",
      "Epoch 75, CIFAR-10 Batch 1:  Loss: 0.7160  Validation Accuracy: 59.34%\n",
      "Epoch 76, CIFAR-10 Batch 1:  Loss: 0.7017  Validation Accuracy: 59.66%\n",
      "Epoch 77, CIFAR-10 Batch 1:  Loss: 0.7050  Validation Accuracy: 58.70%\n",
      "Epoch 78, CIFAR-10 Batch 1:  Loss: 0.6902  Validation Accuracy: 59.82%\n",
      "Epoch 79, CIFAR-10 Batch 1:  Loss: 0.6809  Validation Accuracy: 59.62%\n",
      "Epoch 80, CIFAR-10 Batch 1:  Loss: 0.6696  Validation Accuracy: 59.44%\n",
      "Epoch 81, CIFAR-10 Batch 1:  Loss: 0.6590  Validation Accuracy: 59.90%\n",
      "Epoch 82, CIFAR-10 Batch 1:  Loss: 0.6659  Validation Accuracy: 59.42%\n",
      "Epoch 83, CIFAR-10 Batch 1:  Loss: 0.6375  Validation Accuracy: 60.32%\n",
      "Epoch 84, CIFAR-10 Batch 1:  Loss: 0.6346  Validation Accuracy: 60.00%\n",
      "Epoch 85, CIFAR-10 Batch 1:  Loss: 0.6356  Validation Accuracy: 60.10%\n",
      "Epoch 86, CIFAR-10 Batch 1:  Loss: 0.6194  Validation Accuracy: 59.92%\n",
      "Epoch 87, CIFAR-10 Batch 1:  Loss: 0.6161  Validation Accuracy: 59.92%\n",
      "Epoch 88, CIFAR-10 Batch 1:  Loss: 0.6042  Validation Accuracy: 60.08%\n",
      "Epoch 89, CIFAR-10 Batch 1:  Loss: 0.6068  Validation Accuracy: 59.74%\n",
      "Epoch 90, CIFAR-10 Batch 1:  Loss: 0.5882  Validation Accuracy: 60.42%\n",
      "Epoch 91, CIFAR-10 Batch 1:  Loss: 0.5716  Validation Accuracy: 60.90%\n",
      "Epoch 92, CIFAR-10 Batch 1:  Loss: 0.5734  Validation Accuracy: 60.44%\n",
      "Epoch 93, CIFAR-10 Batch 1:  Loss: 0.5703  Validation Accuracy: 60.14%\n",
      "Epoch 94, CIFAR-10 Batch 1:  Loss: 0.5516  Validation Accuracy: 60.56%\n",
      "Epoch 95, CIFAR-10 Batch 1:  Loss: 0.5430  Validation Accuracy: 60.80%\n",
      "Epoch 96, CIFAR-10 Batch 1:  Loss: 0.5376  Validation Accuracy: 60.40%\n",
      "Epoch 97, CIFAR-10 Batch 1:  Loss: 0.5472  Validation Accuracy: 59.96%\n",
      "Epoch 98, CIFAR-10 Batch 1:  Loss: 0.5283  Validation Accuracy: 60.14%\n",
      "Epoch 99, CIFAR-10 Batch 1:  Loss: 0.5202  Validation Accuracy: 60.70%\n",
      "Epoch 100, CIFAR-10 Batch 1:  Loss: 0.5048  Validation Accuracy: 60.94%\n"
     ]
    }
   ],
   "source": [
    "\"\"\"\n",
    "DON'T MODIFY ANYTHING IN THIS CELL\n",
    "\"\"\"\n",
    "print('Checking the Training on a Single Batch...')\n",
    "with tf.Session() as sess:\n",
    "    # Initializing the variables\n",
    "    sess.run(tf.global_variables_initializer())\n",
    "    \n",
    "    # Training cycle\n",
    "    for epoch in range(epochs):\n",
    "        batch_i = 1\n",
    "        for batch_features, batch_labels in helper.load_preprocess_training_batch(batch_i, batch_size):\n",
    "            train_neural_network(sess, optimizer, keep_probability, batch_features, batch_labels)\n",
    "        print('Epoch {:>2}, CIFAR-10 Batch {}:  '.format(epoch + 1, batch_i), end='')\n",
    "        print_stats(sess, batch_features, batch_labels, cost, accuracy)"
   ]
  },
  {
   "cell_type": "markdown",
   "metadata": {},
   "source": [
    "### Fully Train the Model\n",
    "Now that you got a good accuracy with a single CIFAR-10 batch, try it with all five batches."
   ]
  },
  {
   "cell_type": "code",
   "execution_count": null,
   "metadata": {
    "scrolled": true
   },
   "outputs": [
    {
     "name": "stdout",
     "output_type": "stream",
     "text": [
      "Training...\n",
      "Epoch  1, CIFAR-10 Batch 1:  Loss: 2.2295  Validation Accuracy: 20.92%\n",
      "Epoch  1, CIFAR-10 Batch 2:  Loss: 2.0495  Validation Accuracy: 28.40%\n",
      "Epoch  1, CIFAR-10 Batch 3:  Loss: 1.9364  Validation Accuracy: 29.28%\n",
      "Epoch  1, CIFAR-10 Batch 4:  Loss: 1.8904  Validation Accuracy: 29.64%\n",
      "Epoch  1, CIFAR-10 Batch 5:  Loss: 1.8399  Validation Accuracy: 33.78%\n",
      "Epoch  2, CIFAR-10 Batch 1:  Loss: 1.8023  Validation Accuracy: 36.06%\n",
      "Epoch  2, CIFAR-10 Batch 2:  Loss: 1.7610  Validation Accuracy: 37.36%\n",
      "Epoch  2, CIFAR-10 Batch 3:  Loss: 1.6522  Validation Accuracy: 38.98%\n",
      "Epoch  2, CIFAR-10 Batch 4:  Loss: 1.6314  Validation Accuracy: 39.94%\n",
      "Epoch  2, CIFAR-10 Batch 5:  Loss: 1.6432  Validation Accuracy: 40.32%\n",
      "Epoch  3, CIFAR-10 Batch 1:  Loss: 1.6214  Validation Accuracy: 41.28%\n",
      "Epoch  3, CIFAR-10 Batch 2:  Loss: 1.6218  Validation Accuracy: 41.66%\n",
      "Epoch  3, CIFAR-10 Batch 3:  Loss: 1.4957  Validation Accuracy: 43.58%\n",
      "Epoch  3, CIFAR-10 Batch 4:  Loss: 1.4998  Validation Accuracy: 44.78%\n",
      "Epoch  3, CIFAR-10 Batch 5:  Loss: 1.5197  Validation Accuracy: 44.94%\n",
      "Epoch  4, CIFAR-10 Batch 1:  Loss: 1.5054  Validation Accuracy: 44.84%\n",
      "Epoch  4, CIFAR-10 Batch 2:  Loss: 1.5360  Validation Accuracy: 44.52%\n",
      "Epoch  4, CIFAR-10 Batch 3:  Loss: 1.4115  Validation Accuracy: 46.50%\n",
      "Epoch  4, CIFAR-10 Batch 4:  Loss: 1.4284  Validation Accuracy: 46.46%\n",
      "Epoch  4, CIFAR-10 Batch 5:  Loss: 1.4556  Validation Accuracy: 47.64%\n",
      "Epoch  5, CIFAR-10 Batch 1:  Loss: 1.4275  Validation Accuracy: 47.36%\n",
      "Epoch  5, CIFAR-10 Batch 2:  Loss: 1.4390  Validation Accuracy: 48.80%\n",
      "Epoch  5, CIFAR-10 Batch 3:  Loss: 1.3518  Validation Accuracy: 48.88%\n",
      "Epoch  5, CIFAR-10 Batch 4:  Loss: 1.3557  Validation Accuracy: 49.10%\n",
      "Epoch  5, CIFAR-10 Batch 5:  Loss: 1.3880  Validation Accuracy: 49.68%\n",
      "Epoch  6, CIFAR-10 Batch 1:  Loss: 1.3657  Validation Accuracy: 49.88%\n",
      "Epoch  6, CIFAR-10 Batch 2:  Loss: 1.3864  Validation Accuracy: 50.04%\n",
      "Epoch  6, CIFAR-10 Batch 3:  Loss: 1.3006  Validation Accuracy: 50.80%\n",
      "Epoch  6, CIFAR-10 Batch 4:  Loss: 1.2997  Validation Accuracy: 50.66%\n",
      "Epoch  6, CIFAR-10 Batch 5:  Loss: 1.3327  Validation Accuracy: 51.48%\n",
      "Epoch  7, CIFAR-10 Batch 1:  Loss: 1.3111  Validation Accuracy: 52.14%\n",
      "Epoch  7, CIFAR-10 Batch 2:  Loss: 1.3364  Validation Accuracy: 51.32%\n",
      "Epoch  7, CIFAR-10 Batch 3:  Loss: 1.2685  Validation Accuracy: 52.32%\n",
      "Epoch  7, CIFAR-10 Batch 4:  Loss: 1.2479  Validation Accuracy: 52.74%\n",
      "Epoch  7, CIFAR-10 Batch 5:  Loss: 1.2817  Validation Accuracy: 53.46%\n",
      "Epoch  8, CIFAR-10 Batch 1:  Loss: 1.2835  Validation Accuracy: 52.98%\n",
      "Epoch  8, CIFAR-10 Batch 2:  Loss: 1.3022  Validation Accuracy: 52.46%\n",
      "Epoch  8, CIFAR-10 Batch 3:  Loss: 1.2215  Validation Accuracy: 53.74%\n",
      "Epoch  8, CIFAR-10 Batch 4:  Loss: 1.2121  Validation Accuracy: 53.92%\n",
      "Epoch  8, CIFAR-10 Batch 5:  Loss: 1.2346  Validation Accuracy: 54.94%\n",
      "Epoch  9, CIFAR-10 Batch 1:  Loss: 1.2282  Validation Accuracy: 55.20%\n",
      "Epoch  9, CIFAR-10 Batch 2:  Loss: 1.2747  Validation Accuracy: 53.04%\n",
      "Epoch  9, CIFAR-10 Batch 3:  Loss: 1.1895  Validation Accuracy: 54.96%\n",
      "Epoch  9, CIFAR-10 Batch 4:  Loss: 1.1831  Validation Accuracy: 55.14%\n",
      "Epoch  9, CIFAR-10 Batch 5:  Loss: 1.2002  Validation Accuracy: 56.02%\n",
      "Epoch 10, CIFAR-10 Batch 1:  Loss: 1.2059  Validation Accuracy: 55.58%\n",
      "Epoch 10, CIFAR-10 Batch 2:  Loss: 1.2347  Validation Accuracy: 54.94%\n",
      "Epoch 10, CIFAR-10 Batch 3:  Loss: 1.1574  Validation Accuracy: 56.02%\n",
      "Epoch 10, CIFAR-10 Batch 4:  Loss: 1.1487  Validation Accuracy: 55.34%\n",
      "Epoch 10, CIFAR-10 Batch 5:  Loss: 1.1635  Validation Accuracy: 56.90%\n",
      "Epoch 11, CIFAR-10 Batch 1:  Loss: 1.1697  Validation Accuracy: 56.84%\n",
      "Epoch 11, CIFAR-10 Batch 2:  Loss: 1.1985  Validation Accuracy: 56.44%\n",
      "Epoch 11, CIFAR-10 Batch 3:  Loss: 1.1306  Validation Accuracy: 57.52%\n",
      "Epoch 11, CIFAR-10 Batch 4:  Loss: 1.1232  Validation Accuracy: 56.88%\n",
      "Epoch 11, CIFAR-10 Batch 5:  Loss: 1.1308  Validation Accuracy: 57.96%\n",
      "Epoch 12, CIFAR-10 Batch 1:  Loss: 1.1456  Validation Accuracy: 57.68%\n",
      "Epoch 12, CIFAR-10 Batch 2:  Loss: 1.1690  Validation Accuracy: 56.62%\n",
      "Epoch 12, CIFAR-10 Batch 3:  Loss: 1.1066  Validation Accuracy: 57.92%\n",
      "Epoch 12, CIFAR-10 Batch 4:  Loss: 1.0973  Validation Accuracy: 57.50%\n",
      "Epoch 12, CIFAR-10 Batch 5:  Loss: 1.1032  Validation Accuracy: 58.82%\n",
      "Epoch 13, CIFAR-10 Batch 1:  Loss: 1.1297  Validation Accuracy: 57.76%\n",
      "Epoch 13, CIFAR-10 Batch 2:  Loss: 1.1605  Validation Accuracy: 57.48%\n",
      "Epoch 13, CIFAR-10 Batch 3:  Loss: 1.0859  Validation Accuracy: 58.26%\n",
      "Epoch 13, CIFAR-10 Batch 4:  Loss: 1.0770  Validation Accuracy: 58.44%\n",
      "Epoch 13, CIFAR-10 Batch 5:  Loss: 1.0793  Validation Accuracy: 58.46%\n",
      "Epoch 14, CIFAR-10 Batch 1:  Loss: 1.1022  Validation Accuracy: 58.94%\n",
      "Epoch 14, CIFAR-10 Batch 2:  Loss: 1.1093  Validation Accuracy: 59.00%\n",
      "Epoch 14, CIFAR-10 Batch 3:  Loss: 1.0642  Validation Accuracy: 58.26%\n",
      "Epoch 14, CIFAR-10 Batch 4:  Loss: 1.0617  Validation Accuracy: 58.26%\n",
      "Epoch 14, CIFAR-10 Batch 5:  Loss: 1.0507  Validation Accuracy: 59.28%\n",
      "Epoch 15, CIFAR-10 Batch 1:  Loss: 1.0838  Validation Accuracy: 59.50%\n",
      "Epoch 15, CIFAR-10 Batch 2:  Loss: 1.0876  Validation Accuracy: 59.16%\n",
      "Epoch 15, CIFAR-10 Batch 3:  Loss: 1.0487  Validation Accuracy: 58.58%\n",
      "Epoch 15, CIFAR-10 Batch 4:  Loss: 1.0291  Validation Accuracy: 59.64%\n",
      "Epoch 15, CIFAR-10 Batch 5:  Loss: 1.0246  Validation Accuracy: 59.98%\n",
      "Epoch 16, CIFAR-10 Batch 1:  Loss: 1.0659  Validation Accuracy: 59.76%\n",
      "Epoch 16, CIFAR-10 Batch 2:  Loss: 1.0644  Validation Accuracy: 60.14%\n",
      "Epoch 16, CIFAR-10 Batch 3:  Loss: 1.0320  Validation Accuracy: 59.30%\n",
      "Epoch 16, CIFAR-10 Batch 4:  Loss: 1.0079  Validation Accuracy: 60.68%\n",
      "Epoch 16, CIFAR-10 Batch 5:  Loss: 1.0031  Validation Accuracy: 60.70%\n",
      "Epoch 17, CIFAR-10 Batch 1:  Loss: 1.0507  Validation Accuracy: 59.98%\n",
      "Epoch 17, CIFAR-10 Batch 2:  Loss: 1.0470  Validation Accuracy: 60.82%\n",
      "Epoch 17, CIFAR-10 Batch 3:  Loss: 1.0034  Validation Accuracy: 59.96%\n",
      "Epoch 17, CIFAR-10 Batch 4:  Loss: 0.9905  Validation Accuracy: 60.76%\n",
      "Epoch 17, CIFAR-10 Batch 5:  Loss: 0.9809  Validation Accuracy: 60.96%\n"
     ]
    }
   ],
   "source": [
    "\"\"\"\n",
    "DON'T MODIFY ANYTHING IN THIS CELL\n",
    "\"\"\"\n",
    "save_model_path = './image_classification'\n",
    "\n",
    "print('Training...')\n",
    "with tf.Session() as sess:\n",
    "    # Initializing the variables\n",
    "    sess.run(tf.global_variables_initializer())\n",
    "    \n",
    "    # Training cycle\n",
    "    for epoch in range(epochs):\n",
    "        # Loop over all batches\n",
    "        n_batches = 5\n",
    "        for batch_i in range(1, n_batches + 1):\n",
    "            for batch_features, batch_labels in helper.load_preprocess_training_batch(batch_i, batch_size):\n",
    "                train_neural_network(sess, optimizer, keep_probability, batch_features, batch_labels)\n",
    "            print('Epoch {:>2}, CIFAR-10 Batch {}:  '.format(epoch + 1, batch_i), end='')\n",
    "            print_stats(sess, batch_features, batch_labels, cost, accuracy)\n",
    "            \n",
    "    # Save Model\n",
    "    saver = tf.train.Saver()\n",
    "    save_path = saver.save(sess, save_model_path)"
   ]
  },
  {
   "cell_type": "markdown",
   "metadata": {},
   "source": [
    "# Checkpoint\n",
    "The model has been saved to disk.\n",
    "## Test Model\n",
    "Test your model against the test dataset.  This will be your final accuracy. You should have an accuracy greater than 50%. If you don't, keep tweaking the model architecture and parameters."
   ]
  },
  {
   "cell_type": "code",
   "execution_count": null,
   "metadata": {},
   "outputs": [],
   "source": [
    "\"\"\"\n",
    "DON'T MODIFY ANYTHING IN THIS CELL\n",
    "\"\"\"\n",
    "%matplotlib inline\n",
    "%config InlineBackend.figure_format = 'retina'\n",
    "\n",
    "import tensorflow as tf\n",
    "import pickle\n",
    "import helper\n",
    "import random\n",
    "\n",
    "# Set batch size if not already set\n",
    "try:\n",
    "    if batch_size:\n",
    "        pass\n",
    "except NameError:\n",
    "    batch_size = 64\n",
    "\n",
    "save_model_path = './image_classification'\n",
    "n_samples = 4\n",
    "top_n_predictions = 3\n",
    "\n",
    "def test_model():\n",
    "    \"\"\"\n",
    "    Test the saved model against the test dataset\n",
    "    \"\"\"\n",
    "\n",
    "    test_features, test_labels = pickle.load(open('preprocess_test.p', mode='rb'))\n",
    "    loaded_graph = tf.Graph()\n",
    "\n",
    "    with tf.Session(graph=loaded_graph) as sess:\n",
    "        # Load model\n",
    "        loader = tf.train.import_meta_graph(save_model_path + '.meta')\n",
    "        loader.restore(sess, save_model_path)\n",
    "\n",
    "        # Get Tensors from loaded model\n",
    "        loaded_x = loaded_graph.get_tensor_by_name('x:0')\n",
    "        loaded_y = loaded_graph.get_tensor_by_name('y:0')\n",
    "        loaded_keep_prob = loaded_graph.get_tensor_by_name('keep_prob:0')\n",
    "        loaded_logits = loaded_graph.get_tensor_by_name('logits:0')\n",
    "        loaded_acc = loaded_graph.get_tensor_by_name('accuracy:0')\n",
    "        \n",
    "        # Get accuracy in batches for memory limitations\n",
    "        test_batch_acc_total = 0\n",
    "        test_batch_count = 0\n",
    "        \n",
    "        for test_feature_batch, test_label_batch in helper.batch_features_labels(test_features, test_labels, batch_size):\n",
    "            test_batch_acc_total += sess.run(\n",
    "                loaded_acc,\n",
    "                feed_dict={loaded_x: test_feature_batch, loaded_y: test_label_batch, loaded_keep_prob: 1.0})\n",
    "            test_batch_count += 1\n",
    "\n",
    "        print('Testing Accuracy: {}\\n'.format(test_batch_acc_total/test_batch_count))\n",
    "\n",
    "        # Print Random Samples\n",
    "        random_test_features, random_test_labels = tuple(zip(*random.sample(list(zip(test_features, test_labels)), n_samples)))\n",
    "        random_test_predictions = sess.run(\n",
    "            tf.nn.top_k(tf.nn.softmax(loaded_logits), top_n_predictions),\n",
    "            feed_dict={loaded_x: random_test_features, loaded_y: random_test_labels, loaded_keep_prob: 1.0})\n",
    "        helper.display_image_predictions(random_test_features, random_test_labels, random_test_predictions)\n",
    "\n",
    "\n",
    "test_model()"
   ]
  },
  {
   "cell_type": "markdown",
   "metadata": {},
   "source": [
    "## Why 50-80% Accuracy?\n",
    "You might be wondering why you can't get an accuracy any higher. First things first, 50% isn't bad for a simple CNN.  Pure guessing would get you 10% accuracy. However, you might notice people are getting scores [well above 80%](http://rodrigob.github.io/are_we_there_yet/build/classification_datasets_results.html#43494641522d3130).  That's because we haven't taught you all there is to know about neural networks. We still need to cover a few more techniques.\n",
    "## Submitting This Project\n",
    "When submitting this project, make sure to run all the cells before saving the notebook.  Save the notebook file as \"dlnd_image_classification.ipynb\" and save it as a HTML file under \"File\" -> \"Download as\".  Include the \"helper.py\" and \"problem_unittests.py\" files in your submission."
   ]
  }
 ],
 "metadata": {
  "kernelspec": {
   "display_name": "Python 3",
   "language": "python",
   "name": "python3"
  },
  "language_info": {
   "codemirror_mode": {
    "name": "ipython",
    "version": 3
   },
   "file_extension": ".py",
   "mimetype": "text/x-python",
   "name": "python",
   "nbconvert_exporter": "python",
   "pygments_lexer": "ipython3",
   "version": "3.5.3"
  }
 },
 "nbformat": 4,
 "nbformat_minor": 1
}
